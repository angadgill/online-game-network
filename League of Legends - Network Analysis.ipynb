{
 "cells": [
  {
   "cell_type": "markdown",
   "metadata": {},
   "source": [
    "## Get Data"
   ]
  },
  {
   "cell_type": "markdown",
   "metadata": {},
   "source": [
    "#### Download all match data from static dataset"
   ]
  },
  {
   "cell_type": "code",
   "execution_count": 1,
   "metadata": {
    "collapsed": true
   },
   "outputs": [],
   "source": [
    "import requests"
   ]
  },
  {
   "cell_type": "code",
   "execution_count": 72,
   "metadata": {
    "collapsed": true
   },
   "outputs": [],
   "source": [
    "def gen_static_url(num):\n",
    "    url = 'https://s3-us-west-1.amazonaws.com/riot-api/seed_data/matches%d.json' % num\n",
    "    return url"
   ]
  },
  {
   "cell_type": "code",
   "execution_count": 78,
   "metadata": {
    "collapsed": true
   },
   "outputs": [],
   "source": [
    "import time"
   ]
  },
  {
   "cell_type": "code",
   "execution_count": 91,
   "metadata": {
    "collapsed": false
   },
   "outputs": [
    {
     "name": "stdout",
     "output_type": "stream",
     "text": [
      "Fetching https://s3-us-west-1.amazonaws.com/riot-api/seed_data/matches1.json ...\n",
      "Done!\n",
      "Fetching https://s3-us-west-1.amazonaws.com/riot-api/seed_data/matches2.json ...\n",
      "Done!\n",
      "Fetching https://s3-us-west-1.amazonaws.com/riot-api/seed_data/matches3.json ...\n",
      "Error! Skipping.\n",
      "Fetching https://s3-us-west-1.amazonaws.com/riot-api/seed_data/matches4.json ...\n",
      "Done!\n",
      "Fetching https://s3-us-west-1.amazonaws.com/riot-api/seed_data/matches5.json ...\n",
      "Done!\n",
      "Fetching https://s3-us-west-1.amazonaws.com/riot-api/seed_data/matches6.json ...\n",
      "Done!\n",
      "Fetching https://s3-us-west-1.amazonaws.com/riot-api/seed_data/matches7.json ...\n",
      "Done!\n",
      "Fetching https://s3-us-west-1.amazonaws.com/riot-api/seed_data/matches8.json ...\n",
      "Done!\n",
      "Fetching https://s3-us-west-1.amazonaws.com/riot-api/seed_data/matches9.json ...\n",
      "Done!\n",
      "Fetching https://s3-us-west-1.amazonaws.com/riot-api/seed_data/matches10.json ...\n",
      "Done!\n",
      "All done!\n"
     ]
    }
   ],
   "source": [
    "matches = []\n",
    "for num in range(1,11):\n",
    "    url = gen_static_url(num)\n",
    "    print \"Fetching %s ...\" % url\n",
    "    r = requests.get(url)\n",
    "    try:\n",
    "        data = r.json()\n",
    "        matches += data['matches']\n",
    "        print \"Done!\"\n",
    "    except:\n",
    "        print \"Error! Skipping.\"\n",
    "    time.sleep(1)\n",
    "print \"All done!\""
   ]
  },
  {
   "cell_type": "code",
   "execution_count": 102,
   "metadata": {
    "collapsed": false
   },
   "outputs": [
    {
     "data": {
      "text/plain": [
       "900"
      ]
     },
     "execution_count": 102,
     "metadata": {},
     "output_type": "execute_result"
    }
   ],
   "source": [
    "len(matches)"
   ]
  },
  {
   "cell_type": "markdown",
   "metadata": {},
   "source": [
    "#### Save all match data"
   ]
  },
  {
   "cell_type": "code",
   "execution_count": 96,
   "metadata": {
    "collapsed": true
   },
   "outputs": [],
   "source": [
    "import pickle"
   ]
  },
  {
   "cell_type": "code",
   "execution_count": 97,
   "metadata": {
    "collapsed": true
   },
   "outputs": [],
   "source": [
    "with open('matches.data', 'w') as f:\n",
    "    pickle.dump(matches, f)"
   ]
  },
  {
   "cell_type": "markdown",
   "metadata": {},
   "source": [
    "#### Get match data for summoners"
   ]
  },
  {
   "cell_type": "code",
   "execution_count": 235,
   "metadata": {
    "collapsed": false
   },
   "outputs": [],
   "source": [
    "import riot_games_api\n",
    "reload(riot_games_api)\n",
    "\n",
    "rg = riot_games_api.RiotGames('riot_games_api.key')"
   ]
  },
  {
   "cell_type": "code",
   "execution_count": 236,
   "metadata": {
    "collapsed": true
   },
   "outputs": [],
   "source": [
    "summonerId = 69570294"
   ]
  },
  {
   "cell_type": "code",
   "execution_count": 242,
   "metadata": {
    "collapsed": false,
    "scrolled": true
   },
   "outputs": [
    {
     "name": "stdout",
     "output_type": "stream",
     "text": [
      "Retrying in 1.00 seconds\n",
      "Retrying in 2.00 seconds\n",
      "Retrying in 2.00 seconds\n",
      "Retrying in 2.00 seconds\n",
      "Success!\n",
      "173\n",
      "Success!\n",
      "[35549346, 31638910, 30475433, 43248772, 35736110, 29196225, 34964968, 21454109, 69570294, 64874116]\n"
     ]
    }
   ],
   "source": [
    "matchIds = rg.get_matchIds_by_summoner(summonerId)\n",
    "\n",
    "print len(matchIds)\n",
    "\n",
    "summonerIds = []\n",
    "\n",
    "matchId = matchIds[0]\n",
    "summonerIds += rg.get_summonerIds_by_match(matchId)\n",
    "\n",
    "print summonerIds"
   ]
  },
  {
   "cell_type": "code",
   "execution_count": 223,
   "metadata": {
    "collapsed": false
   },
   "outputs": [
    {
     "name": "stdout",
     "output_type": "stream",
     "text": [
      "Success!\n",
      "362\n",
      "Success!\n",
      "[35006213, 64874116, 65621417, 50622190, 60838240, 39721094, 64870532, 53064132, 62789442, 40584540]\n"
     ]
    }
   ],
   "source": [
    "summonerId = 64874116\n",
    "matchIds = rg.get_matchIds_by_summoner(summonerId)\n",
    "\n",
    "print len(matchIds)\n",
    "\n",
    "summonerIds = []\n",
    "\n",
    "matchId = matchIds[1]\n",
    "summonerIds += rg.get_summonerIds_by_match(matchId)\n",
    "\n",
    "print summonerIds"
   ]
  },
  {
   "cell_type": "markdown",
   "metadata": {},
   "source": [
    "## Analysis"
   ]
  },
  {
   "cell_type": "code",
   "execution_count": 98,
   "metadata": {
    "collapsed": false
   },
   "outputs": [],
   "source": [
    "match = matches[0]"
   ]
  },
  {
   "cell_type": "code",
   "execution_count": 99,
   "metadata": {
    "collapsed": false
   },
   "outputs": [
    {
     "data": {
      "text/plain": [
       "[u'queueType',\n",
       " u'matchVersion',\n",
       " u'platformId',\n",
       " u'season',\n",
       " u'region',\n",
       " u'matchId',\n",
       " u'mapId',\n",
       " u'matchCreation',\n",
       " u'teams',\n",
       " u'participants',\n",
       " u'matchMode',\n",
       " u'matchDuration',\n",
       " u'timeline',\n",
       " u'participantIdentities',\n",
       " u'matchType']"
      ]
     },
     "execution_count": 99,
     "metadata": {},
     "output_type": "execute_result"
    }
   ],
   "source": [
    "match.keys()"
   ]
  },
  {
   "cell_type": "code",
   "execution_count": 100,
   "metadata": {
    "collapsed": false
   },
   "outputs": [],
   "source": [
    "regions = set()\n",
    "for match in matches:\n",
    "    regions.add(match['region'])"
   ]
  },
  {
   "cell_type": "code",
   "execution_count": 101,
   "metadata": {
    "collapsed": false
   },
   "outputs": [
    {
     "data": {
      "text/plain": [
       "{u'NA'}"
      ]
     },
     "execution_count": 101,
     "metadata": {},
     "output_type": "execute_result"
    }
   ],
   "source": [
    "regions"
   ]
  },
  {
   "cell_type": "code",
   "execution_count": 24,
   "metadata": {
    "collapsed": true
   },
   "outputs": [],
   "source": [
    "import numpy as np"
   ]
  },
  {
   "cell_type": "code",
   "execution_count": 23,
   "metadata": {
    "collapsed": false
   },
   "outputs": [
    {
     "data": {
      "text/plain": [
       "2"
      ]
     },
     "execution_count": 23,
     "metadata": {},
     "output_type": "execute_result"
    }
   ],
   "source": [
    "num_teams = np.array()\n",
    "for match in matchs\n",
    "len(match['teams'])"
   ]
  },
  {
   "cell_type": "code",
   "execution_count": 18,
   "metadata": {
    "collapsed": false
   },
   "outputs": [
    {
     "data": {
      "text/plain": [
       "10"
      ]
     },
     "execution_count": 18,
     "metadata": {},
     "output_type": "execute_result"
    }
   ],
   "source": [
    "len(match['participants'])"
   ]
  },
  {
   "cell_type": "code",
   "execution_count": 47,
   "metadata": {
    "collapsed": false
   },
   "outputs": [
    {
     "data": {
      "text/plain": [
       "10"
      ]
     },
     "execution_count": 47,
     "metadata": {},
     "output_type": "execute_result"
    }
   ],
   "source": [
    "len(match['participantIdentities'])"
   ]
  },
  {
   "cell_type": "code",
   "execution_count": 71,
   "metadata": {
    "collapsed": false
   },
   "outputs": [
    {
     "data": {
      "text/plain": [
       "{u'participantId': 1,\n",
       " u'player': {u'matchHistoryUri': u'/v1/stats/player_history/NA1/229811424',\n",
       "  u'profileIcon': 909,\n",
       "  u'summonerId': 69570294,\n",
       "  u'summonerName': u'Your Grammy'}}"
      ]
     },
     "execution_count": 71,
     "metadata": {},
     "output_type": "execute_result"
    }
   ],
   "source": [
    "match['participantIdentities'][0]"
   ]
  },
  {
   "cell_type": "code",
   "execution_count": 62,
   "metadata": {
    "collapsed": false
   },
   "outputs": [
    {
     "data": {
      "text/plain": [
       "69570294"
      ]
     },
     "execution_count": 62,
     "metadata": {},
     "output_type": "execute_result"
    }
   ],
   "source": [
    "match['participantIdentities'][0]['player']['summonerId']"
   ]
  },
  {
   "cell_type": "code",
   "execution_count": 103,
   "metadata": {
    "collapsed": false
   },
   "outputs": [],
   "source": [
    "summonerIds = set()\n",
    "for match in matches:\n",
    "    for p in match['participantIdentities']:\n",
    "        summonerIds.add(p['player']['summonerId'])"
   ]
  },
  {
   "cell_type": "code",
   "execution_count": 104,
   "metadata": {
    "collapsed": false
   },
   "outputs": [
    {
     "data": {
      "text/plain": [
       "9000"
      ]
     },
     "execution_count": 104,
     "metadata": {},
     "output_type": "execute_result"
    }
   ],
   "source": [
    "len(summonerIds)"
   ]
  },
  {
   "cell_type": "code",
   "execution_count": null,
   "metadata": {
    "collapsed": true
   },
   "outputs": [],
   "source": []
  }
 ],
 "metadata": {
  "kernelspec": {
   "display_name": "Python 2",
   "language": "python",
   "name": "python2"
  },
  "language_info": {
   "codemirror_mode": {
    "name": "ipython",
    "version": 2
   },
   "file_extension": ".py",
   "mimetype": "text/x-python",
   "name": "python",
   "nbconvert_exporter": "python",
   "pygments_lexer": "ipython2",
   "version": "2.7.6"
  }
 },
 "nbformat": 4,
 "nbformat_minor": 0
}
