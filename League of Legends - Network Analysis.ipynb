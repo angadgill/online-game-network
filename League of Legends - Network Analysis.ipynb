{
 "cells": [
  {
   "cell_type": "markdown",
   "metadata": {},
   "source": [
    "## Get Data"
   ]
  },
  {
   "cell_type": "markdown",
   "metadata": {},
   "source": [
    "To download all match data from static dataset. Run `python lol/download_static_data.py` this will store all static data into `lol/static_matches.data`."
   ]
  },
  {
   "cell_type": "markdown",
   "metadata": {},
   "source": [
    "#### Load saved data"
   ]
  },
  {
   "cell_type": "code",
   "execution_count": 3,
   "metadata": {
    "collapsed": true
   },
   "outputs": [],
   "source": [
    "import utils"
   ]
  },
  {
   "cell_type": "code",
   "execution_count": 4,
   "metadata": {
    "collapsed": false
   },
   "outputs": [],
   "source": [
    "static_matches = utils.load_data('lol/static_matches.data')"
   ]
  },
  {
   "cell_type": "markdown",
   "metadata": {},
   "source": [
    "## Build a network"
   ]
  },
  {
   "cell_type": "code",
   "execution_count": 5,
   "metadata": {
    "collapsed": true
   },
   "outputs": [],
   "source": [
    "import networkx as nx\n",
    "import time\n",
    "from collections import deque"
   ]
  },
  {
   "cell_type": "code",
   "execution_count": 6,
   "metadata": {
    "collapsed": false
   },
   "outputs": [
    {
     "data": {
      "text/plain": [
       "<module 'algos' from 'algos.pyc'>"
      ]
     },
     "execution_count": 6,
     "metadata": {},
     "output_type": "execute_result"
    }
   ],
   "source": [
    "import algos\n",
    "reload(algos)"
   ]
  },
  {
   "cell_type": "code",
   "execution_count": 7,
   "metadata": {
    "collapsed": false
   },
   "outputs": [
    {
     "data": {
      "text/plain": [
       "<module 'lol.riot_games_api' from 'lol/riot_games_api.pyc'>"
      ]
     },
     "execution_count": 7,
     "metadata": {},
     "output_type": "execute_result"
    }
   ],
   "source": [
    "from lol import riot_games_api\n",
    "reload(riot_games_api)"
   ]
  },
  {
   "cell_type": "code",
   "execution_count": 8,
   "metadata": {
    "collapsed": false
   },
   "outputs": [],
   "source": [
    "rg = riot_games_api.RiotGames('lol/riot_games_api.key')"
   ]
  },
  {
   "cell_type": "markdown",
   "metadata": {},
   "source": [
    "#### Find all team mates for one summoner"
   ]
  },
  {
   "cell_type": "code",
   "execution_count": 9,
   "metadata": {
    "collapsed": false
   },
   "outputs": [],
   "source": [
    "# Seed node\n",
    "summonerId = static_matches[0]['participantIdentities'][0]['player']['summonerId']"
   ]
  },
  {
   "cell_type": "code",
   "execution_count": 10,
   "metadata": {
    "collapsed": true
   },
   "outputs": [],
   "source": [
    "del static_matches"
   ]
  },
  {
   "cell_type": "code",
   "execution_count": 22,
   "metadata": {
    "collapsed": false
   },
   "outputs": [],
   "source": [
    "# Initialize -- Starting from seed\n",
    "matches = {}  # Store data for all matches\n",
    "discovered_summonerIds = {summonerId: True}  # Track discovered nodes\n",
    "g = nx.Graph()\n",
    "\n",
    "max_hop = 2  # Used as a stopping condition for Breadth First Search\n",
    "\n",
    "bfs_queue = deque([{'summonerId': summonerId, 'hop': 0}])  # Queue for breadth first search\n",
    "hop = 0"
   ]
  },
  {
   "cell_type": "code",
   "execution_count": 1,
   "metadata": {
    "collapsed": false
   },
   "outputs": [],
   "source": [
    "def load_state(num):\n",
    "    matches = utils.load_data('matches_' + str(num))\n",
    "    discovered_summonerIds = utils.load_data('discovered_summonerIds_' + str(num))\n",
    "    g = utils.load_data('g_' + str(num))\n",
    "    max_hop = utils.load_data('max_hop_' + str(num))\n",
    "    bfs_queue = utils.load_data('bfs_queue_' + str(num))\n",
    "    hop = utils.load_data('hop_' + str(num))\n",
    "    return matches, discovered_summonerIds, g, max_hop, bfs_queue, hop"
   ]
  },
  {
   "cell_type": "code",
   "execution_count": null,
   "metadata": {
    "collapsed": true
   },
   "outputs": [],
   "source": [
    "# Optional: Initialize from saved state\n",
    "matches, discovered_summonerIds, g, max_hop, bfs_queue, hop = load_state(0)"
   ]
  },
  {
   "cell_type": "code",
   "execution_count": 2,
   "metadata": {
    "collapsed": false
   },
   "outputs": [],
   "source": [
    "def save_state(num, matches, discovered_summonerIds, g, max_hop, bfs_queue, hop):\n",
    "    # Save state\n",
    "    print \"Saving state\"\n",
    "    utils.save_data(matches, 'matches_' + str(num))\n",
    "    utils.save_data(discovered_summonerIds, 'discovered_summonerIds_' + str(num))\n",
    "    utils.save_data(g, 'g_' + str(num))\n",
    "    utils.save_data(max_hop, 'max_hop_' + str(num))\n",
    "    utils.save_data(bfs_queue, 'bfs_queue_' + str(num))\n",
    "    utils.save_data(hop, 'hop_' + str(num))"
   ]
  },
  {
   "cell_type": "code",
   "execution_count": 21,
   "metadata": {
    "collapsed": true
   },
   "outputs": [],
   "source": [
    "checkpoint_num = 0\n",
    "loop_count = 0"
   ]
  },
  {
   "cell_type": "code",
   "execution_count": null,
   "metadata": {
    "collapsed": false,
    "scrolled": true
   },
   "outputs": [
    {
     "name": "stdout",
     "output_type": "stream",
     "text": [
      "\n",
      "SummonerId 51666047 at hop 0 has 478 matches.\n",
      "Match 170 out of 478 [35.6%] Status code: 500, \t Retry count: 1\n",
      "Retrying in 4.00 seconds\n",
      "Match 237 out of 478 [49.6%] Status code: 500, \t Retry count: 1\n",
      "Retrying in 4.00 seconds\n",
      "Match 478 out of 478 [100.0%] \n",
      "SummonerId 71251277 at hop 1 has 167 matches.\n",
      "Match 167 out of 167 [100.0%] \n",
      "SummonerId 31963680 at hop 1 has 1811 matches.\n",
      "Match 398 out of 1811 [22.0%] Status code: 500, \t Retry count: 1\n",
      "Retrying in 4.00 seconds\n",
      "Match 1129 out of 1811 [62.3%] Status code: 500, \t Retry count: 1\n",
      "Retrying in 4.00 seconds\n",
      "Match 1718 out of 1811 [94.9%] Status code: 404, \t Retry count: 1\n",
      "Retrying in 4.00 seconds\n",
      "Status code: 404, \t Retry count: 2\n",
      "Retrying in 4.00 seconds\n",
      "Status code: 404, \t Retry count: 3\n",
      "Retrying in 4.00 seconds\n",
      "Status code: 404, \t Retry count: 4\n",
      "Retrying in 4.00 seconds\n",
      "Status code: 404, \t Retry count: 5\n",
      "Retrying in 4.00 seconds\n",
      "Error, skipping matchId: 1467681944\n",
      "Match 1811 out of 1811 [100.0%] \n",
      "SummonerId 58202324 at hop 1 has 807 matches.\n",
      "Match 18 out of 807 [2.2%] Status code: 500, \t Retry count: 1\n",
      "Retrying in 4.00 seconds\n",
      "Match 246 out of 807 [30.5%] Status code: 500, \t Retry count: 1\n",
      "Retrying in 4.00 seconds\n",
      "Match 257 out of 807 [31.8%] Status code: 500, \t Retry count: 1\n",
      "Retrying in 4.00 seconds\n",
      "Match 507 out of 807 [62.8%] Status code: 500, \t Retry count: 1\n",
      "Retrying in 4.00 seconds\n",
      "Match 807 out of 807 [100.0%] \n",
      "SummonerId 44805272 at hop 1 has 1044 matches.\n",
      "Match 414 out of 1044 [39.7%] Status code: 404, \t Retry count: 1\n",
      "Retrying in 4.00 seconds\n",
      "Status code: 404, \t Retry count: 2\n",
      "Retrying in 4.00 seconds\n",
      "Status code: 404, \t Retry count: 3\n",
      "Retrying in 4.00 seconds\n",
      "Status code: 404, \t Retry count: 4\n",
      "Retrying in 4.00 seconds\n",
      "Status code: 404, \t Retry count: 5\n",
      "Retrying in 4.00 seconds\n",
      "Error, skipping matchId: 1676553116\n",
      "Match 475 out of 1044 [45.5%] Status code: 404, \t Retry count: 1\n",
      "Retrying in 4.00 seconds\n",
      "Status code: 404, \t Retry count: 2\n",
      "Retrying in 4.00 seconds\n",
      "Status code: 404, \t Retry count: 3\n",
      "Retrying in 4.00 seconds\n",
      "Status code: 404, \t Retry count: 4\n",
      "Retrying in 4.00 seconds\n",
      "Status code: 404, \t Retry count: 5\n",
      "Retrying in 4.00 seconds\n",
      "Error, skipping matchId: 1660882794\n",
      "Match 501 out of 1044 [48.0%] Status code: 500, \t Retry count: 1\n",
      "Retrying in 4.00 seconds\n",
      "Match 562 out of 1044 [53.8%] Status code: 404, \t Retry count: 1\n",
      "Retrying in 4.00 seconds\n",
      "Status code: 404, \t Retry count: 2\n",
      "Retrying in 4.00 seconds\n",
      "Status code: 404, \t Retry count: 3\n",
      "Retrying in 4.00 seconds\n",
      "Status code: 404, \t Retry count: 4\n",
      "Retrying in 4.00 seconds\n",
      "Status code: 404, \t Retry count: 5\n",
      "Retrying in 4.00 seconds\n",
      "Error, skipping matchId: 1513646392\n",
      "Match 767 out of 1044 [73.5%] Status code: 404, \t Retry count: 1\n",
      "Retrying in 4.00 seconds\n",
      "Status code: 404, \t Retry count: 2\n",
      "Retrying in 4.00 seconds\n",
      "Status code: 404, \t Retry count: 3\n",
      "Retrying in 4.00 seconds\n",
      "Status code: 404, \t Retry count: 4\n",
      "Retrying in 4.00 seconds\n",
      "Status code: 404, \t Retry count: 5\n",
      "Retrying in 4.00 seconds\n",
      "Error, skipping matchId: 1448882658\n",
      "Match 848 out of 1044 [81.2%] Status code: 500, \t Retry count: 1\n",
      "Retrying in 4.00 seconds\n",
      "Match 1044 out of 1044 [100.0%] \n",
      "SummonerId 45017234 at hop 1 has 1449 matches.\n",
      "Match 95 out of 1449 [6.6%] Status code: 500, \t Retry count: 1\n",
      "Retrying in 4.00 seconds\n",
      "Match 136 out of 1449 [9.4%] Status code: 500, \t Retry count: 1\n",
      "Retrying in 4.00 seconds\n",
      "Match 744 out of 1449 [51.3%] Status code: 500, \t Retry count: 1\n",
      "Retrying in 4.00 seconds\n",
      "Match 962 out of 1449 [66.4%] Status code: 503, \t Retry count: 1\n",
      "Retrying in 4.00 seconds\n",
      "Status code: 503, \t Retry count: 2\n",
      "Retrying in 4.00 seconds\n",
      "Status code: 503, \t Retry count: 3\n",
      "Retrying in 4.00 seconds\n",
      "Status code: 503, \t Retry count: 4\n",
      "Retrying in 4.00 seconds\n",
      "Status code: 503, \t Retry count: 5\n",
      "Retrying in 4.00 seconds\n",
      "Match 1254 out of 1449 [86.5%] Status code: 404, \t Retry count: 1\n",
      "Retrying in 4.00 seconds\n",
      "Status code: 404, \t Retry count: 2\n",
      "Retrying in 4.00 seconds\n",
      "Status code: 404, \t Retry count: 3\n",
      "Retrying in 4.00 seconds\n",
      "Status code: 404, \t Retry count: 4\n",
      "Retrying in 4.00 seconds\n",
      "Status code: 404, \t Retry count: 5\n",
      "Retrying in 4.00 seconds\n",
      "Error, skipping matchId: 1468623803\n",
      "Match 1315 out of 1449 [90.8%] Status code: 500, \t Retry count: 1\n",
      "Retrying in 4.00 seconds\n",
      "Match 1402 out of 1449 [96.8%] Status code: 500, \t Retry count: 1\n",
      "Retrying in 4.00 seconds\n",
      "Match 1449 out of 1449 [100.0%] \n",
      "SummonerId 44769540 at hop 1 has 1142 matches.\n",
      "Match 951 out of 1142 [83.3%] Status code: 404, \t Retry count: 1\n",
      "Retrying in 4.00 seconds\n",
      "Status code: 404, \t Retry count: 2\n",
      "Retrying in 4.00 seconds\n",
      "Status code: 404, \t Retry count: 3\n",
      "Retrying in 4.00 seconds\n",
      "Status code: 404, \t Retry count: 4\n",
      "Retrying in 4.00 seconds\n",
      "Status code: 404, \t Retry count: 5\n",
      "Retrying in 4.00 seconds\n",
      "Error, skipping matchId: 1475202628\n",
      "Match 1035 out of 1142 [90.6%] Status code: 500, \t Retry count: 1\n",
      "Retrying in 4.00 seconds\n",
      "Match 1064 out of 1142 [93.2%] Status code: 404, \t Retry count: 1\n",
      "Retrying in 4.00 seconds\n",
      "Status code: 404, \t Retry count: 2\n",
      "Retrying in 4.00 seconds\n",
      "Status code: 404, \t Retry count: 3\n",
      "Retrying in 4.00 seconds\n",
      "Status code: 404, \t Retry count: 4\n",
      "Retrying in 4.00 seconds\n",
      "Status code: 404, \t Retry count: 5\n",
      "Retrying in 4.00 seconds\n",
      "Error, skipping matchId: 1409731960\n",
      "Match 1067 out of 1142 [93.4%] Status code: 404, \t Retry count: 1\n",
      "Retrying in 4.00 seconds\n",
      "Status code: 404, \t Retry count: 2\n",
      "Retrying in 4.00 seconds\n",
      "Status code: 404, \t Retry count: 3\n",
      "Retrying in 4.00 seconds\n",
      "Status code: 404, \t Retry count: 4\n",
      "Retrying in 4.00 seconds\n",
      "Status code: 404, \t Retry count: 5\n",
      "Retrying in 4.00 seconds\n",
      "Error, skipping matchId: 1408477003\n",
      "Match 1106 out of 1142 [96.8%] Status code: 404, \t Retry count: 1\n",
      "Retrying in 4.00 seconds\n",
      "Status code: 404, \t Retry count: 2\n",
      "Retrying in 4.00 seconds\n",
      "Status code: 404, \t Retry count: 3\n",
      "Retrying in 4.00 seconds\n",
      "Status code: 404, \t Retry count: 4\n",
      "Retrying in 4.00 seconds\n",
      "Status code: 404, \t Retry count: 5\n",
      "Retrying in 4.00 seconds\n",
      "Error, skipping matchId: 1384521016\n",
      "Match 1142 out of 1142 [100.0%] Status code: 404, \t Retry count: 1\n",
      "Retrying in 4.00 seconds\n",
      "Status code: 404, \t Retry count: 2\n",
      "Retrying in 4.00 seconds\n",
      "Status code: 404, \t Retry count: 3\n",
      "Retrying in 4.00 seconds\n",
      "Status code: 404, \t Retry count: 4\n",
      "Retrying in 4.00 seconds\n",
      "Status code: 404, \t Retry count: 5\n",
      "Retrying in 4.00 seconds\n",
      "Error, skipping matchId: 1366170313\n",
      "\n",
      "SummonerId 47135936 at hop 1 has 602 matches.\n",
      "Match 24 out of 602 [4.0%] Status code: 500, \t Retry count: 1\n",
      "Retrying in 4.00 seconds\n",
      "Match 145 out of 602 [24.1%] Status code: 404, \t Retry count: 1\n",
      "Retrying in 4.00 seconds\n",
      "Status code: 404, \t Retry count: 2\n",
      "Retrying in 4.00 seconds\n",
      "Status code: 404, \t Retry count: 3\n",
      "Retrying in 4.00 seconds\n",
      "Status code: 404, \t Retry count: 4\n",
      "Retrying in 4.00 seconds\n",
      "Status code: 404, \t Retry count: 5\n",
      "Retrying in 4.00 seconds\n",
      "Error, skipping matchId: 2156146363\n",
      "Match 601 out of 602 [99.8%] Status code: 404, \t Retry count: 1\n",
      "Retrying in 4.00 seconds\n",
      "Status code: 404, \t Retry count: 2\n",
      "Retrying in 4.00 seconds\n",
      "Status code: 404, \t Retry count: 3\n",
      "Retrying in 4.00 seconds\n",
      "Status code: 404, \t Retry count: 4\n",
      "Retrying in 4.00 seconds\n",
      "Status code: 404, \t Retry count: 5\n",
      "Retrying in 4.00 seconds\n",
      "Error, skipping matchId: 1413785103\n",
      "Match 602 out of 602 [100.0%] \n",
      "SummonerId 34801158 at hop 1 has 1356 matches.\n",
      "Match 150 out of 1356 [11.1%] Status code: 500, \t Retry count: 1\n",
      "Retrying in 4.00 seconds\n",
      "Match 538 out of 1356 [39.7%] Status code: 500, \t Retry count: 1\n",
      "Retrying in 4.00 seconds\n",
      "Match 654 out of 1356 [48.2%]"
     ]
    }
   ],
   "source": [
    "while (len(bfs_queue)>0) and (hop <= max_hop):\n",
    "    \n",
    "    loop_count += 1\n",
    "    \n",
    "    # Dequeue next summonerId\n",
    "    next_item_in_queue = bfs_queue.popleft()\n",
    "    summonerId = next_item_in_queue['summonerId']\n",
    "    hop = next_item_in_queue['hop']\n",
    "    \n",
    "    # Get match ids for current node\n",
    "    matchIds = rg.get_matchIds_by_summoner(summonerId)\n",
    "    num_matches = len(matchIds)\n",
    "    \n",
    "    print \"\"\n",
    "    print \"SummonerId %d at hop %d has %d matches.\" % (summonerId, hop, num_matches)\n",
    "    \n",
    "    # Loop through all matches and add all members to the network\n",
    "    for i, matchId in enumerate(matchIds):\n",
    "        print \"\\rMatch %d out of %d [%0.1f%%]\" % (i+1, num_matches, (i+1)/float(num_matches)*100),\n",
    "        \n",
    "        if matchId in matches:  # skip loop if match info already retreived\n",
    "            continue\n",
    "\n",
    "        # Get full match data and extract team members\n",
    "        try:\n",
    "            match = rg.get_match(matchId)\n",
    "        except:\n",
    "            print \"Error, skipping matchId: %d\" % matchId\n",
    "            continue\n",
    "            \n",
    "        team_memberIds = rg.get_summonerIds_by_match(match=match, team_with=summonerId)\n",
    "\n",
    "        # Add team members to graph as a clique, with matchId info on edges\n",
    "        g = algos.add_clique_with_weights(g, team_memberIds, edge_attr={'matchId': matchId}) \n",
    "\n",
    "        # Add new memberIds to queue\n",
    "        for i in team_memberIds:\n",
    "            if i not in discovered_summonerIds:\n",
    "                bfs_queue.append({'summonerId': i, 'hop': hop+1})\n",
    "                discovered_summonerIds[i] = True\n",
    "\n",
    "        # Add match data to matches dict\n",
    "        match = utils.list_of_dict_to_dict([match], 'matchId')\n",
    "        matches.update(match)\n",
    "        \n",
    "        # Sleep to stay under the API data rate limit\n",
    "        time.sleep(1.2)        \n",
    "    \n",
    "    if loop_count % 100 == 0:\n",
    "        # Save data every 1000 summonerIds\n",
    "        save_state(checkpoint_num)\n",
    "        checkpoint_num += 1\n"
   ]
  },
  {
   "cell_type": "code",
   "execution_count": null,
   "metadata": {
    "collapsed": false
   },
   "outputs": [],
   "source": [
    "len(matches)"
   ]
  },
  {
   "cell_type": "code",
   "execution_count": null,
   "metadata": {
    "collapsed": false
   },
   "outputs": [],
   "source": [
    "len(bfs_queue)"
   ]
  },
  {
   "cell_type": "code",
   "execution_count": null,
   "metadata": {
    "collapsed": false
   },
   "outputs": [],
   "source": [
    "print \"Network as %d nodes and %d edges\" % (len(g.nodes()), len(g.edges()))"
   ]
  },
  {
   "cell_type": "code",
   "execution_count": null,
   "metadata": {
    "collapsed": true
   },
   "outputs": [],
   "source": []
  }
 ],
 "metadata": {
  "kernelspec": {
   "display_name": "Python 2",
   "language": "python",
   "name": "python2"
  },
  "language_info": {
   "codemirror_mode": {
    "name": "ipython",
    "version": 2
   },
   "file_extension": ".py",
   "mimetype": "text/x-python",
   "name": "python",
   "nbconvert_exporter": "python",
   "pygments_lexer": "ipython2",
   "version": "2.7.6"
  }
 },
 "nbformat": 4,
 "nbformat_minor": 0
}
