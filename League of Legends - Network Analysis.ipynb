{
 "cells": [
  {
   "cell_type": "markdown",
   "metadata": {},
   "source": [
    "## Get Data"
   ]
  },
  {
   "cell_type": "markdown",
   "metadata": {},
   "source": [
    "To download all match data from static dataset. Run `python lol/download_static_data.py` this will store all static data into `lol/static_matches.data`."
   ]
  },
  {
   "cell_type": "markdown",
   "metadata": {},
   "source": [
    "#### Load saved data"
   ]
  },
  {
   "cell_type": "code",
   "execution_count": 1,
   "metadata": {
    "collapsed": true
   },
   "outputs": [],
   "source": [
    "import utils"
   ]
  },
  {
   "cell_type": "code",
   "execution_count": 2,
   "metadata": {
    "collapsed": false
   },
   "outputs": [],
   "source": [
    "static_matches = utils.load_data('lol/static_matches.data')"
   ]
  },
  {
   "cell_type": "markdown",
   "metadata": {},
   "source": [
    "## Build a network"
   ]
  },
  {
   "cell_type": "code",
   "execution_count": 3,
   "metadata": {
    "collapsed": true
   },
   "outputs": [],
   "source": [
    "import networkx as nx\n",
    "import time\n",
    "from collections import deque"
   ]
  },
  {
   "cell_type": "code",
   "execution_count": 4,
   "metadata": {
    "collapsed": false
   },
   "outputs": [
    {
     "data": {
      "text/plain": [
       "<module 'algos' from 'algos.pyc'>"
      ]
     },
     "execution_count": 4,
     "metadata": {},
     "output_type": "execute_result"
    }
   ],
   "source": [
    "import algos\n",
    "reload(algos)"
   ]
  },
  {
   "cell_type": "code",
   "execution_count": 5,
   "metadata": {
    "collapsed": false
   },
   "outputs": [
    {
     "data": {
      "text/plain": [
       "<module 'lol.riot_games_api' from 'lol/riot_games_api.pyc'>"
      ]
     },
     "execution_count": 5,
     "metadata": {},
     "output_type": "execute_result"
    }
   ],
   "source": [
    "from lol import riot_games_api\n",
    "reload(riot_games_api)"
   ]
  },
  {
   "cell_type": "code",
   "execution_count": 6,
   "metadata": {
    "collapsed": false
   },
   "outputs": [],
   "source": [
    "rg = riot_games_api.RiotGames('lol/riot_games_api.key')"
   ]
  },
  {
   "cell_type": "markdown",
   "metadata": {},
   "source": [
    "#### Find all team mates for one summoner"
   ]
  },
  {
   "cell_type": "code",
   "execution_count": 7,
   "metadata": {
    "collapsed": false
   },
   "outputs": [],
   "source": [
    "# Seed node\n",
    "summonerId = static_matches[0]['participantIdentities'][0]['player']['summonerId']"
   ]
  },
  {
   "cell_type": "code",
   "execution_count": 8,
   "metadata": {
    "collapsed": false
   },
   "outputs": [],
   "source": [
    "# Initialize -- Starting from seed\n",
    "matches = {}  # Store data for all matches\n",
    "discovered_summonerIds = {summonerId: True}  # Track discovered nodes\n",
    "g = nx.Graph()\n",
    "\n",
    "max_hop = 2  # Used as a stopping condition for Breadth First Search\n",
    "\n",
    "bfs_queue = deque([{'summonerId': summonerId, 'hop': 0}])  # Queue for breadth first search\n",
    "hop = 0"
   ]
  },
  {
   "cell_type": "code",
   "execution_count": 30,
   "metadata": {
    "collapsed": true
   },
   "outputs": [],
   "source": [
    "# Optional: Initialize from saved state\n",
    "\n",
    "matches = utils.load_data('matches')\n",
    "discovered_summonerIds = utils.load_data('discovered_summonerIds')\n",
    "g = utils.load_data('g')\n",
    "max_hop = utils.load_data('max_hop')\n",
    "bfs_queue = utils.load_data('bfs_queue')\n",
    "hop = utils.load_data('hop')"
   ]
  },
  {
   "cell_type": "code",
   "execution_count": null,
   "metadata": {
    "collapsed": false,
    "scrolled": true
   },
   "outputs": [
    {
     "name": "stdout",
     "output_type": "stream",
     "text": [
      "\n",
      "SummonerId 21284763 at hop 1 has 479 matches.\n",
      "Match 73 out of 479 [15.2%]"
     ]
    }
   ],
   "source": [
    "while (len(bfs_queue)>0) and (hop <= max_hop):\n",
    "    # Dequeue next summonerId\n",
    "    next_item_in_queue = bfs_queue.popleft()\n",
    "    summonerId = next_item_in_queue['summonerId']\n",
    "    hop = next_item_in_queue['hop']\n",
    "    \n",
    "    # Get match ids for current node\n",
    "    matchIds = rg.get_matchIds_by_summoner(summonerId)\n",
    "    num_matches = len(matchIds)\n",
    "    \n",
    "    print \"\"\n",
    "    print \"SummonerId %d at hop %d has %d matches.\" % (summonerId, hop, num_matches)\n",
    "    \n",
    "    # Loop through all matches and add all members to the network\n",
    "    for i, matchId in enumerate(matchIds):\n",
    "        print \"\\rMatch %d out of %d [%0.1f%%]\" % (i+1, num_matches, (i+1)/float(num_matches)*100),\n",
    "        \n",
    "        if matchId in matches:  # skip loop if match info already retreived\n",
    "            continue\n",
    "\n",
    "        # Get full match data and extract team members\n",
    "        try:\n",
    "            match = rg.get_match(matchId)\n",
    "        except:\n",
    "            print \"Error, skipping matchId: %d\" % matchId\n",
    "            \n",
    "        team_memberIds = rg.get_summonerIds_by_match(match=match, team_with=summonerId)\n",
    "\n",
    "        # Add team members to graph as a clique, with matchId info on edges\n",
    "        g = algos.add_clique_with_weights(g, team_memberIds, edge_attr={'matchId': matchId}) \n",
    "\n",
    "        # Add new memberIds to queue\n",
    "        for i in team_memberIds:\n",
    "            if i not in discovered_summonerIds:\n",
    "                bfs_queue.append({'summonerId': i, 'hop': hop+1})\n",
    "                discovered_summonerIds[i] = True\n",
    "\n",
    "        # Add match data to matches dict\n",
    "        match = utils.list_of_dict_to_dict([match], 'matchId')\n",
    "        matches.update(match)\n",
    "        \n",
    "        # Sleep to stay under the API data rate limit\n",
    "        time.sleep(1.2)        "
   ]
  },
  {
   "cell_type": "code",
   "execution_count": 25,
   "metadata": {
    "collapsed": false
   },
   "outputs": [],
   "source": [
    "# Save state\n",
    "utils.save_data(matches, 'matches')\n",
    "utils.save_data(discovered_summonerIds, 'discovered_summonerIds')\n",
    "utils.save_data(g, 'g')\n",
    "utils.save_data(max_hop, 'max_hop')\n",
    "utils.save_data(bfs_queue, 'bfs_queue')\n",
    "utils.save_data(hop, 'hop')"
   ]
  },
  {
   "cell_type": "code",
   "execution_count": 22,
   "metadata": {
    "collapsed": false
   },
   "outputs": [
    {
     "data": {
      "text/plain": [
       "5044"
      ]
     },
     "execution_count": 22,
     "metadata": {},
     "output_type": "execute_result"
    }
   ],
   "source": [
    "len(matches)"
   ]
  },
  {
   "cell_type": "code",
   "execution_count": 23,
   "metadata": {
    "collapsed": false
   },
   "outputs": [
    {
     "data": {
      "text/plain": [
       "17282"
      ]
     },
     "execution_count": 23,
     "metadata": {},
     "output_type": "execute_result"
    }
   ],
   "source": [
    "len(bfs_queue)"
   ]
  },
  {
   "cell_type": "code",
   "execution_count": 24,
   "metadata": {
    "collapsed": false
   },
   "outputs": [
    {
     "name": "stdout",
     "output_type": "stream",
     "text": [
      "Network as 17288 nodes and 46392 edges\n"
     ]
    }
   ],
   "source": [
    "print \"Network as %d nodes and %d edges\" % (len(g.nodes()), len(g.edges()))"
   ]
  },
  {
   "cell_type": "code",
   "execution_count": null,
   "metadata": {
    "collapsed": true
   },
   "outputs": [],
   "source": []
  }
 ],
 "metadata": {
  "kernelspec": {
   "display_name": "Python 2",
   "language": "python",
   "name": "python2"
  },
  "language_info": {
   "codemirror_mode": {
    "name": "ipython",
    "version": 2
   },
   "file_extension": ".py",
   "mimetype": "text/x-python",
   "name": "python",
   "nbconvert_exporter": "python",
   "pygments_lexer": "ipython2",
   "version": "2.7.6"
  }
 },
 "nbformat": 4,
 "nbformat_minor": 0
}
