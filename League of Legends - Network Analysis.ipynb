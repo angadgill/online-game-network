{
 "cells": [
  {
   "cell_type": "markdown",
   "metadata": {},
   "source": [
    "## Get Data"
   ]
  },
  {
   "cell_type": "markdown",
   "metadata": {},
   "source": [
    "To download all match data from static dataset. Run `python lol/download_static_data.py` this will store all static data into `lol/static_matches.data`."
   ]
  },
  {
   "cell_type": "markdown",
   "metadata": {},
   "source": [
    "#### Load saved data"
   ]
  },
  {
   "cell_type": "code",
   "execution_count": 1,
   "metadata": {
    "collapsed": true
   },
   "outputs": [],
   "source": [
    "import utils"
   ]
  },
  {
   "cell_type": "code",
   "execution_count": 4,
   "metadata": {
    "collapsed": false
   },
   "outputs": [],
   "source": [
    "static_matches = utils.load_data('lol/static_matches.data')"
   ]
  },
  {
   "cell_type": "markdown",
   "metadata": {},
   "source": [
    "## Build a network"
   ]
  },
  {
   "cell_type": "code",
   "execution_count": 2,
   "metadata": {
    "collapsed": true
   },
   "outputs": [],
   "source": [
    "import networkx as nx\n",
    "import time\n",
    "from collections import deque"
   ]
  },
  {
   "cell_type": "code",
   "execution_count": 3,
   "metadata": {
    "collapsed": false
   },
   "outputs": [
    {
     "data": {
      "text/plain": [
       "<module 'algos' from 'algos.pyc'>"
      ]
     },
     "execution_count": 3,
     "metadata": {},
     "output_type": "execute_result"
    }
   ],
   "source": [
    "import algos\n",
    "reload(algos)"
   ]
  },
  {
   "cell_type": "code",
   "execution_count": 4,
   "metadata": {
    "collapsed": false
   },
   "outputs": [
    {
     "data": {
      "text/plain": [
       "<module 'lol.riot_games_api' from 'lol/riot_games_api.pyc'>"
      ]
     },
     "execution_count": 4,
     "metadata": {},
     "output_type": "execute_result"
    }
   ],
   "source": [
    "from lol import riot_games_api\n",
    "reload(riot_games_api)"
   ]
  },
  {
   "cell_type": "code",
   "execution_count": 5,
   "metadata": {
    "collapsed": false
   },
   "outputs": [],
   "source": [
    "rg = riot_games_api.RiotGames('lol/riot_games_api.key')"
   ]
  },
  {
   "cell_type": "markdown",
   "metadata": {},
   "source": [
    "#### Find all team mates for one summoner"
   ]
  },
  {
   "cell_type": "code",
   "execution_count": 9,
   "metadata": {
    "collapsed": false
   },
   "outputs": [],
   "source": [
    "# Seed node\n",
    "summonerId = static_matches[0]['participantIdentities'][0]['player']['summonerId']"
   ]
  },
  {
   "cell_type": "code",
   "execution_count": 10,
   "metadata": {
    "collapsed": true
   },
   "outputs": [],
   "source": [
    "del static_matches"
   ]
  },
  {
   "cell_type": "code",
   "execution_count": 22,
   "metadata": {
    "collapsed": false
   },
   "outputs": [],
   "source": [
    "# Initialize -- Starting from seed\n",
    "matches = {}  # Store data for all matches\n",
    "discovered_summonerIds = {summonerId: True}  # Track discovered nodes\n",
    "g = nx.Graph()\n",
    "\n",
    "max_hop = 2  # Used as a stopping condition for Breadth First Search\n",
    "\n",
    "bfs_queue = deque([{'summonerId': summonerId, 'hop': 0}])  # Queue for breadth first search\n",
    "hop = 0"
   ]
  },
  {
   "cell_type": "code",
   "execution_count": 6,
   "metadata": {
    "collapsed": false
   },
   "outputs": [],
   "source": [
    "def load_state(num):\n",
    "    matches = utils.load_data('matches_' + str(num))\n",
    "    discovered_summonerIds = utils.load_data('discovered_summonerIds_' + str(num))\n",
    "    g = utils.load_data('g_' + str(num))\n",
    "    max_hop = utils.load_data('max_hop_' + str(num))\n",
    "    bfs_queue = utils.load_data('bfs_queue_' + str(num))\n",
    "    hop = utils.load_data('hop_' + str(num))\n",
    "    return matches, discovered_summonerIds, g, max_hop, bfs_queue, hop"
   ]
  },
  {
   "cell_type": "code",
   "execution_count": 7,
   "metadata": {
    "collapsed": true
   },
   "outputs": [],
   "source": [
    "# Optional: Initialize from saved state\n",
    "matches, discovered_summonerIds, g, max_hop, bfs_queue, hop = load_state(2)"
   ]
  },
  {
   "cell_type": "code",
   "execution_count": 8,
   "metadata": {
    "collapsed": false
   },
   "outputs": [],
   "source": [
    "def save_state(num, matches, discovered_summonerIds, g, max_hop, bfs_queue, hop):\n",
    "    # Save state\n",
    "    print \"Saving state\"\n",
    "    utils.save_data(matches, 'matches_' + str(num))\n",
    "    utils.save_data(discovered_summonerIds, 'discovered_summonerIds_' + str(num))\n",
    "    utils.save_data(g, 'g_' + str(num))\n",
    "    utils.save_data(max_hop, 'max_hop_' + str(num))\n",
    "    utils.save_data(bfs_queue, 'bfs_queue_' + str(num))\n",
    "    utils.save_data(hop, 'hop_' + str(num))"
   ]
  },
  {
   "cell_type": "code",
   "execution_count": 9,
   "metadata": {
    "collapsed": false
   },
   "outputs": [
    {
     "data": {
      "text/plain": [
       "26985"
      ]
     },
     "execution_count": 9,
     "metadata": {},
     "output_type": "execute_result"
    }
   ],
   "source": [
    "len(matches)"
   ]
  },
  {
   "cell_type": "code",
   "execution_count": 10,
   "metadata": {
    "collapsed": false
   },
   "outputs": [
    {
     "data": {
      "text/plain": [
       "88157"
      ]
     },
     "execution_count": 10,
     "metadata": {},
     "output_type": "execute_result"
    }
   ],
   "source": [
    "len(bfs_queue)"
   ]
  },
  {
   "cell_type": "code",
   "execution_count": 11,
   "metadata": {
    "collapsed": false
   },
   "outputs": [
    {
     "name": "stdout",
     "output_type": "stream",
     "text": [
      "Network as 88197 nodes and 250532 edges\n"
     ]
    }
   ],
   "source": [
    "print \"Network as %d nodes and %d edges\" % (len(g.nodes()), len(g.edges()))"
   ]
  },
  {
   "cell_type": "code",
   "execution_count": null,
   "metadata": {
    "collapsed": true
   },
   "outputs": [],
   "source": [
    "winners = []\n",
    "acs = []\n",
    "memberIdxs = {100: [0, 1, 2, 3, 4], 200: [5, 6, 7, 8, 9]}\n",
    "\n",
    "num_matches = len(matches.keys())\n",
    "print num_matches"
   ]
  },
  {
   "cell_type": "code",
   "execution_count": 76,
   "metadata": {
    "collapsed": false
   },
   "outputs": [
    {
     "name": "stdout",
     "output_type": "stream",
     "text": [
      " 26985\n",
      "100.00% done\n"
     ]
    }
   ],
   "source": [
    "for i, matchId in enumerate(matches.keys()):\n",
    "    print \"\\r%0.2f%% done\" % (i/float(num_matches)*100),\n",
    "    for team in matches[matchId]['teams']:\n",
    "        teamId = team['teamId']\n",
    "        num_team_members_in_graph = 0\n",
    "        memberIds = []\n",
    "        for memberIdx in memberIdxs[teamId]:\n",
    "            try: \n",
    "                memberId = matches[matchId]['participantIdentities'][memberIdx]['player']['summonerId']\n",
    "                memberIds += [memberId]\n",
    "                if memberId in g:\n",
    "                    num_team_members_in_graph += 1\n",
    "            except:\n",
    "                pass\n",
    "\n",
    "        if num_team_members_in_graph == 5:\n",
    "            winners += [team['winner']]\n",
    "            g_team = g.subgraph(memberIds)\n",
    "            acs += [nx.algebraic_connectivity(g_team)]\n",
    "            \n",
    "#     break"
   ]
  },
  {
   "cell_type": "code",
   "execution_count": 77,
   "metadata": {
    "collapsed": false
   },
   "outputs": [
    {
     "name": "stdout",
     "output_type": "stream",
     "text": [
      "26830\n",
      "26830\n"
     ]
    }
   ],
   "source": [
    "print len(winners)\n",
    "print len(acs)"
   ]
  },
  {
   "cell_type": "code",
   "execution_count": 78,
   "metadata": {
    "collapsed": true
   },
   "outputs": [],
   "source": [
    "from scipy.stats import pearsonr"
   ]
  },
  {
   "cell_type": "code",
   "execution_count": 82,
   "metadata": {
    "collapsed": false
   },
   "outputs": [],
   "source": [
    "corr, pValue = pearsonr(acs, winners)"
   ]
  },
  {
   "cell_type": "code",
   "execution_count": 85,
   "metadata": {
    "collapsed": false
   },
   "outputs": [
    {
     "name": "stdout",
     "output_type": "stream",
     "text": [
      "Correlation: 0.00, p-value: 0.6563 \n"
     ]
    }
   ],
   "source": [
    "print \"Correlation: %0.2f, p-value: %0.4f \" % (corr, pValue)"
   ]
  },
  {
   "cell_type": "code",
   "execution_count": null,
   "metadata": {
    "collapsed": true
   },
   "outputs": [],
   "source": []
  }
 ],
 "metadata": {
  "kernelspec": {
   "display_name": "Python 2",
   "language": "python",
   "name": "python2"
  },
  "language_info": {
   "codemirror_mode": {
    "name": "ipython",
    "version": 2
   },
   "file_extension": ".py",
   "mimetype": "text/x-python",
   "name": "python",
   "nbconvert_exporter": "python",
   "pygments_lexer": "ipython2",
   "version": "2.7.5"
  }
 },
 "nbformat": 4,
 "nbformat_minor": 0
}
