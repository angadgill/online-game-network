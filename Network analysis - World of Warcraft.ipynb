{
 "cells": [
  {
   "cell_type": "markdown",
   "metadata": {},
   "source": [
    "# Network analysis - World of Warcraft"
   ]
  },
  {
   "cell_type": "markdown",
   "metadata": {},
   "source": [
    "## Get data from Battle.net"
   ]
  },
  {
   "cell_type": "markdown",
   "metadata": {},
   "source": [
    "#### Setup connection"
   ]
  },
  {
   "cell_type": "code",
   "execution_count": 1,
   "metadata": {
    "collapsed": true
   },
   "outputs": [],
   "source": [
    "with open('battle_net_api.key', 'r') as f:\n",
    "    key = f.read()"
   ]
  },
  {
   "cell_type": "markdown",
   "metadata": {},
   "source": [
    "#### Import API Key"
   ]
  },
  {
   "cell_type": "code",
   "execution_count": 109,
   "metadata": {
    "collapsed": false,
    "scrolled": true
   },
   "outputs": [
    {
     "data": {
      "text/plain": [
       "<module 'battlenet_api' from 'battlenet_api.py'>"
      ]
     },
     "execution_count": 109,
     "metadata": {},
     "output_type": "execute_result"
    }
   ],
   "source": [
    "import battlenet_api\n",
    "reload(battlenet_api)"
   ]
  },
  {
   "cell_type": "code",
   "execution_count": 110,
   "metadata": {
    "collapsed": true
   },
   "outputs": [],
   "source": [
    "bn = battlenet_api.BattleNet(public_key=key)"
   ]
  },
  {
   "cell_type": "markdown",
   "metadata": {},
   "source": [
    "#### Get data for a PVE Realm"
   ]
  },
  {
   "cell_type": "code",
   "execution_count": 111,
   "metadata": {
    "collapsed": false
   },
   "outputs": [],
   "source": [
    "realms = bn.realms()"
   ]
  },
  {
   "cell_type": "code",
   "execution_count": 105,
   "metadata": {
    "collapsed": false
   },
   "outputs": [
    {
     "name": "stdout",
     "output_type": "stream",
     "text": [
      "Number of Realms: 246\n"
     ]
    }
   ],
   "source": [
    "print \"Number of Realms: %d\" % len(realms)"
   ]
  },
  {
   "cell_type": "code",
   "execution_count": 6,
   "metadata": {
    "collapsed": true
   },
   "outputs": [],
   "source": [
    "realms_pve = [r for r in realms if r['type']=='pve']"
   ]
  },
  {
   "cell_type": "code",
   "execution_count": 7,
   "metadata": {
    "collapsed": false
   },
   "outputs": [
    {
     "name": "stdout",
     "output_type": "stream",
     "text": [
      "Number of PVE Realms: 117\n"
     ]
    }
   ],
   "source": [
    "print \"Number of PVE Realms: %d\" % len(realms_pve)"
   ]
  },
  {
   "cell_type": "code",
   "execution_count": 52,
   "metadata": {
    "collapsed": false
   },
   "outputs": [],
   "source": [
    "realm = realms_pve[0]"
   ]
  },
  {
   "cell_type": "code",
   "execution_count": 53,
   "metadata": {
    "collapsed": false
   },
   "outputs": [
    {
     "name": "stdout",
     "output_type": "stream",
     "text": [
      "Selected Realm: Aerie Peak\n"
     ]
    }
   ],
   "source": [
    "print \"Selected Realm: %s\" % realm['name']"
   ]
  },
  {
   "cell_type": "markdown",
   "metadata": {},
   "source": [
    "#### Get data for Challenges in the selected Realm"
   ]
  },
  {
   "cell_type": "code",
   "execution_count": 54,
   "metadata": {
    "collapsed": false
   },
   "outputs": [],
   "source": [
    "challenges = bn.challenges(realm['name'])"
   ]
  },
  {
   "cell_type": "code",
   "execution_count": 55,
   "metadata": {
    "collapsed": false
   },
   "outputs": [
    {
     "name": "stdout",
     "output_type": "stream",
     "text": [
      "Number of Challenges: 17\n"
     ]
    }
   ],
   "source": [
    "print \"Number of Challenges: %d\" % len(challenges)"
   ]
  },
  {
   "cell_type": "code",
   "execution_count": 56,
   "metadata": {
    "collapsed": true
   },
   "outputs": [],
   "source": [
    "groups = challenges[0]['groups']"
   ]
  },
  {
   "cell_type": "code",
   "execution_count": 57,
   "metadata": {
    "collapsed": false
   },
   "outputs": [
    {
     "name": "stdout",
     "output_type": "stream",
     "text": [
      "Number of groups per Challenge: 100\n"
     ]
    }
   ],
   "source": [
    "print \"Number of groups per Challenge: %d\" % len(groups)"
   ]
  },
  {
   "cell_type": "markdown",
   "metadata": {},
   "source": [
    "#### Figure out distribution of characters in groups"
   ]
  },
  {
   "cell_type": "code",
   "execution_count": 58,
   "metadata": {
    "collapsed": false
   },
   "outputs": [],
   "source": [
    "import numpy as np"
   ]
  },
  {
   "cell_type": "code",
   "execution_count": 93,
   "metadata": {
    "collapsed": false,
    "scrolled": true
   },
   "outputs": [
    {
     "name": "stdout",
     "output_type": "stream",
     "text": [
      "Challenge Auchindoun group members: 5.00 average and 0.00 std\n",
      "Challenge Bloodmaul Slag Mines group members: 5.00 average and 0.00 std\n",
      "Challenge Gate of the Setting Sun group members: 5.00 average and 0.00 std\n",
      "Challenge Grimrail Depot group members: 5.00 average and 0.00 std\n",
      "Challenge Iron Docks group members: 5.00 average and 0.00 std\n",
      "Challenge Mogu'shan Palace group members: 5.00 average and 0.00 std\n",
      "Challenge Scarlet Halls group members: 5.00 average and 0.00 std\n",
      "Challenge Scarlet Monastery group members: 5.00 average and 0.00 std\n",
      "Challenge Scholomance group members: 5.00 average and 0.00 std\n",
      "Challenge Shado-Pan Monastery group members: 5.00 average and 0.00 std\n",
      "Challenge Shadowmoon Burial Grounds group members: 5.00 average and 0.00 std\n",
      "Challenge Siege of Niuzao Temple group members: 5.00 average and 0.00 std\n",
      "Challenge Skyreach group members: 5.00 average and 0.00 std\n",
      "Challenge Stormstout Brewery group members: 5.00 average and 0.00 std\n",
      "Challenge Temple of the Jade Serpent group members: 5.00 average and 0.00 std\n",
      "Challenge The Everbloom group members: 5.00 average and 0.00 std\n",
      "Challenge Upper Blackrock Spire group members: 5.00 average and 0.00 std\n"
     ]
    }
   ],
   "source": [
    "names = []\n",
    "for challenge in challenges:\n",
    "    num_members = []  # list of num. of members\n",
    "    for group in challenge['groups']:\n",
    "        members = group['members']\n",
    "        num_members += [len(members)]\n",
    "        for m in members:\n",
    "            if m.has_key('character'):\n",
    "                 names += [m['character']['name']]\n",
    "#         print ', '.join(names)\n",
    "\n",
    "    print \"Challenge %s group members: %0.2f average and %0.2f std\" % \\\n",
    "    (challenge['map']['name'], np.mean(num_members), np.std(num_members))"
   ]
  },
  {
   "cell_type": "code",
   "execution_count": 60,
   "metadata": {
    "collapsed": false
   },
   "outputs": [
    {
     "name": "stdout",
     "output_type": "stream",
     "text": [
      "Number of unique characters: 1057\n"
     ]
    }
   ],
   "source": [
    "print \"Number of unique characters: %d\" % len(set(names))"
   ]
  },
  {
   "cell_type": "markdown",
   "metadata": {},
   "source": [
    "#### Create a network of characters"
   ]
  },
  {
   "cell_type": "code",
   "execution_count": 61,
   "metadata": {
    "collapsed": true
   },
   "outputs": [],
   "source": [
    "import networkx as nx"
   ]
  },
  {
   "cell_type": "code",
   "execution_count": 62,
   "metadata": {
    "collapsed": false
   },
   "outputs": [
    {
     "data": {
      "text/plain": [
       "<module 'algos' from 'algos.pyc'>"
      ]
     },
     "execution_count": 62,
     "metadata": {},
     "output_type": "execute_result"
    }
   ],
   "source": [
    "import algos\n",
    "reload(algos)"
   ]
  },
  {
   "cell_type": "code",
   "execution_count": 63,
   "metadata": {
    "collapsed": true
   },
   "outputs": [],
   "source": [
    "g = algos.generate_team_graph(challenges)"
   ]
  },
  {
   "cell_type": "markdown",
   "metadata": {},
   "source": [
    "## Algebraic Connectivity of network and performance"
   ]
  },
  {
   "cell_type": "markdown",
   "metadata": {},
   "source": [
    "#### Calculate correlation between algebraic connectivity and performance"
   ]
  },
  {
   "cell_type": "code",
   "execution_count": 64,
   "metadata": {
    "collapsed": true
   },
   "outputs": [],
   "source": [
    "from scipy.stats import pearsonr"
   ]
  },
  {
   "cell_type": "code",
   "execution_count": 65,
   "metadata": {
    "collapsed": true
   },
   "outputs": [],
   "source": [
    "ac, time = algos.get_metrics(challenges, g)"
   ]
  },
  {
   "cell_type": "code",
   "execution_count": 66,
   "metadata": {
    "collapsed": false
   },
   "outputs": [],
   "source": [
    "ac = np.array(ac)\n",
    "time = np.array(time)\n",
    "r, p = pearsonr(ac, time)"
   ]
  },
  {
   "cell_type": "code",
   "execution_count": 67,
   "metadata": {
    "collapsed": false
   },
   "outputs": [
    {
     "name": "stdout",
     "output_type": "stream",
     "text": [
      "Algebraic Connectivity vs. challenge completion time: Pearson coeff = -0.12, p-value = 0.000002\n"
     ]
    }
   ],
   "source": [
    "print \"Algebraic Connectivity vs. challenge completion time: Pearson coeff = %0.2f, p-value = %0.6f\" % (r, p)"
   ]
  },
  {
   "cell_type": "code",
   "execution_count": null,
   "metadata": {
    "collapsed": true
   },
   "outputs": [],
   "source": []
  },
  {
   "cell_type": "markdown",
   "metadata": {},
   "source": [
    "#### Calculate correlation between algebraic connectivity and performance for all PVE Realms"
   ]
  },
  {
   "cell_type": "code",
   "execution_count": 82,
   "metadata": {
    "collapsed": true
   },
   "outputs": [],
   "source": [
    "import time"
   ]
  },
  {
   "cell_type": "code",
   "execution_count": 118,
   "metadata": {
    "collapsed": true
   },
   "outputs": [
    {
     "name": "stdout",
     "output_type": "stream",
     "text": [
      "Realm: Aerie Peak, \t Pearson coeff = -0.12, \t p-value = 0.000002\n",
      "Realm: Aggramar, \t Pearson coeff = -0.09, \t p-value = 0.000965\n",
      "Realm: Alexstrasza, \t Pearson coeff = -0.05, \t p-value = 0.046314\n",
      "Realm: Alleria, \t Pearson coeff = -0.08, \t p-value = 0.001852\n",
      "Realm: Aman'Thul, \t Pearson coeff = -0.17, \t p-value = 0.000000\n",
      "Realm: Antonidas, \t Pearson coeff = 0.15, \t p-value = 0.000000\n",
      "Error with 'Anvilmar'\n",
      "Error with 'Arathor'\n",
      "Error with 'Area 52'\n",
      "Error with 'Arygos'\n",
      "Error with 'Azjol-Nerub'\n",
      "Realm: Azuremyst, \t Pearson coeff = -0.06, \t p-value = 0.013243\n",
      "Error with 'Baelgun'\n",
      "Realm: Blackhand, \t Pearson coeff = -0.06, \t p-value = 0.026009\n",
      "Error with 'Blade's Edge'\n",
      "Realm: Bladefist, \t Pearson coeff = -0.06, \t p-value = 0.028214\n",
      "Error with 'Bloodhoof'\n",
      "Realm: Borean Tundra, \t Pearson coeff = 0.02, \t p-value = 0.537992\n",
      "Error with 'Bronzebeard'\n",
      "Realm: Caelestrasz, \t Pearson coeff = -0.25, \t p-value = 0.000000\n",
      "Realm: Cairne, \t Pearson coeff = -0.05, \t p-value = 0.041315\n",
      "Error with 'Cenarius'\n",
      "Error with 'Dalaran'\n",
      "Realm: Darrowmere, \t Pearson coeff = -0.08, \t p-value = 0.002386\n",
      "Error with 'Dath'Remar'\n",
      "Realm: Dawnbringer, \t Pearson coeff = -0.19, \t p-value = 0.000000\n",
      "Error with 'Dentarg'\n",
      "Realm: Doomhammer, \t Pearson coeff = -0.03, \t p-value = 0.170234\n",
      "Realm: Draenor, \t Pearson coeff = -0.28, \t p-value = 0.000000\n",
      "Error with 'Dragonblight'\n",
      "Realm: Drak'thul, \t Pearson coeff = 0.14, \t p-value = 0.000000\n",
      "Realm: Draka, \t Pearson coeff = -0.10, \t p-value = 0.000059\n",
      "Realm: Drenden, \t Pearson coeff = -0.17, \t p-value = 0.000000\n",
      "Error with 'Durotan'\n",
      "Realm: Duskwood, \t Pearson coeff = 0.02, \t p-value = 0.514377\n",
      "Realm: Echo Isles, \t Pearson coeff = -0.28, \t p-value = 0.000000\n",
      "Realm: Eitrigg, \t Pearson coeff = -0.20, \t p-value = 0.000000\n",
      "Realm: Eldre'Thalas, \t Pearson coeff = -0.10, \t p-value = 0.000048\n",
      "Realm: Elune, \t Pearson coeff = -0.19, \t p-value = 0.000000\n",
      "Error with 'Eonar'\n",
      "Error with 'Exodar'\n",
      "Realm: Fenris, \t Pearson coeff = -0.10, \t p-value = 0.000074\n",
      "Realm: Fizzcrank, \t Pearson coeff = -0.09, \t p-value = 0.000965\n",
      "Error with 'Galakrond'\n",
      "Realm: Gallywix, \t Pearson coeff = -0.31, \t p-value = 0.000000\n",
      "Error with 'Garona'\n",
      "Realm: Garrosh, \t Pearson coeff = 0.08, \t p-value = 0.006874\n",
      "Error with 'Ghostlands'\n",
      "Realm: Gilneas, \t Pearson coeff = -0.19, \t p-value = 0.000000\n",
      "Realm: Gnomeregan, \t Pearson coeff = -0.02, \t p-value = 0.468143\n",
      "Realm: Goldrinn, \t Pearson coeff = -0.19, \t p-value = 0.000000\n",
      "Realm: Greymane, \t Pearson coeff = -0.08, \t p-value = 0.001699\n",
      "Realm: Grizzly Hills, \t Pearson coeff = 0.06, \t p-value = 0.020467\n",
      "Error with 'Hellscream'\n",
      "Realm: Hydraxis, \t Pearson coeff = 0.16, \t p-value = 0.000000\n",
      "Error with 'Hyjal'\n",
      "Error with 'Icecrown'\n",
      "Realm: Kael'thas, \t Pearson coeff = -0.14, \t p-value = 0.000000\n",
      "Realm: Kargath, \t Pearson coeff = -0.11, \t p-value = 0.000007\n",
      "Realm: Khadgar, \t Pearson coeff = -0.08, \t p-value = 0.001852\n",
      "Realm: Khaz Modan, \t Pearson coeff = -0.28, \t p-value = 0.000000\n",
      "Realm: Khaz'goroth, \t Pearson coeff = -0.15, \t p-value = 0.000000\n",
      "Error with 'Kilrogg'\n",
      "Realm: Korialstrasz, \t Pearson coeff = -0.10, \t p-value = 0.000048\n",
      "Realm: Kul Tiras, \t Pearson coeff = -0.06, \t p-value = 0.028214\n",
      "Error with 'Lightbringer'\n",
      "Realm: Llane, \t Pearson coeff = -0.18, \t p-value = 0.000000\n",
      "Error with 'Lothar'\n",
      "Error with 'Madoran'\n",
      "Error with 'Malfurion'\n",
      "Realm: Malygos, \t Pearson coeff = 0.00, \t p-value = 0.964957\n",
      "Error with 'Medivh'\n",
      "Error with 'Misha'\n",
      "Error with 'Mok'Nathal'\n",
      "Realm: Moonrunner, \t Pearson coeff = -0.02, \t p-value = 0.468143\n",
      "Error with 'Muradin'\n",
      "Realm: Nagrand, \t Pearson coeff = -0.25, \t p-value = 0.000000\n",
      "Error with 'Nazgrel'\n",
      "Error with 'Nesingwary'\n",
      "Error with 'Nordrassil'\n",
      "Error with 'Norgannon'\n",
      "Realm: Perenolde, \t Pearson coeff = -0.05, \t p-value = 0.041315\n",
      "Error with 'Proudmoore'\n",
      "Error with 'Quel'Thalas'\n",
      "Error with 'Quel'dorei'\n",
      "Error with 'Ravencrest'\n",
      "Error with 'Rexxar'\n",
      "Error with 'Runetotem'\n",
      "Error with 'Saurfang'\n",
      "Error with 'Sen'jin'\n",
      "Realm: Shadowsong, \t Pearson coeff = 0.02, \t p-value = 0.537992\n",
      "Realm: Shandris, \t Pearson coeff = -0.13, \t p-value = 0.000000\n",
      "Realm: Shu'halo, \t Pearson coeff = -0.20, \t p-value = 0.000000\n",
      "Error with 'Silvermoon'\n",
      "Realm: Skywall, \t Pearson coeff = 0.14, \t p-value = 0.000000\n",
      "Realm: Staghelm, \t Pearson coeff = -0.06, \t p-value = 0.013243\n",
      "Error with 'Stormrage'\n",
      "Error with 'Suramar'\n",
      "Realm: Tanaris, \t Pearson coeff = -0.08, \t p-value = 0.001699\n",
      "Error with 'Terenas'\n",
      "Realm: Terokkar, \t Pearson coeff = -0.05, \t p-value = 0.046314\n",
      "Error with 'Thrall'\n",
      "Realm: Thunderhorn, \t Pearson coeff = -0.01, \t p-value = 0.625361\n",
      "Error with 'Trollbane'\n",
      "Error with 'Turalyon'\n",
      "Error with 'Uldaman'\n",
      "Realm: Uldum, \t Pearson coeff = 0.15, \t p-value = 0.000000\n",
      "Realm: Undermine, \t Pearson coeff = 0.00, \t p-value = 0.966226\n",
      "Error with 'Uther'\n",
      "Error with 'Vek'nilash'\n",
      "Error with 'Velen'\n",
      "Realm: Whisperwind, \t Pearson coeff = 0.05, \t p-value = 0.047180\n",
      "Error with 'Windrunner'\n",
      "Realm: Winterhoof, \t Pearson coeff = -0.10, \t p-value = 0.000739\n",
      "Error with 'Ysera'\n",
      "Error with 'Zangarmarsh'\n",
      "Error with 'Zul'jin'\n"
     ]
    }
   ],
   "source": [
    "corr = []  # list of tuples [(realm name, corr coeff, p value), ...]\n",
    "for realm in realms_pve:\n",
    "    realm_name = realm['name']\n",
    "#     print realm_name\n",
    "    try:\n",
    "        challenges = bn.challenges(realm_name)\n",
    "        g = algos.generate_team_graph(challenges)\n",
    "        ac, c_time = algos.get_metrics(challenges, g)\n",
    "        ac = np.array(ac)\n",
    "        c_time = np.array(c_time)\n",
    "        r, p = pearsonr(ac, c_time)\n",
    "        corr += [(realm_name, r, p)]\n",
    "        print \"Realm: %s, \\t Pearson coeff = %0.2f, \\t p-value = %0.6f\" % (realm_name, r, p)    \n",
    "    except:\n",
    "        print \"Error with '%s'\" % realm_name\n",
    "    time.sleep(1)\n",
    "#     break"
   ]
  },
  {
   "cell_type": "code",
   "execution_count": 126,
   "metadata": {
    "collapsed": false
   },
   "outputs": [
    {
     "name": "stdout",
     "output_type": "stream",
     "text": [
      "Realm: Aerie Peak,  \t Pearson coeff = -0.12,  \t p-value = 0.000002\n",
      "Realm: Aggramar,  \t Pearson coeff = -0.09,  \t p-value = 0.000965\n",
      "Realm: Alexstrasza,  \t Pearson coeff = -0.05,  \t p-value = 0.046314\n",
      "Realm: Alleria,  \t Pearson coeff = -0.08,  \t p-value = 0.001852\n",
      "Realm: Aman'Thul,  \t Pearson coeff = -0.17,  \t p-value = 0.000000\n",
      "Realm: Antonidas,  \t Pearson coeff = 0.15,  \t p-value = 0.000000\n",
      "Realm: Azuremyst,  \t Pearson coeff = -0.06,  \t p-value = 0.013243\n",
      "Realm: Blackhand,  \t Pearson coeff = -0.06,  \t p-value = 0.026009\n",
      "Realm: Bladefist,  \t Pearson coeff = -0.06,  \t p-value = 0.028214\n",
      "Realm: Borean Tundra,  \t Pearson coeff = 0.02,  \t p-value = 0.537992\n",
      "Realm: Caelestrasz,  \t Pearson coeff = -0.25,  \t p-value = 0.000000\n",
      "Realm: Cairne,  \t Pearson coeff = -0.05,  \t p-value = 0.041315\n",
      "Realm: Darrowmere,  \t Pearson coeff = -0.08,  \t p-value = 0.002386\n",
      "Realm: Dawnbringer,  \t Pearson coeff = -0.19,  \t p-value = 0.000000\n",
      "Realm: Doomhammer,  \t Pearson coeff = -0.03,  \t p-value = 0.170234\n",
      "Realm: Draenor,  \t Pearson coeff = -0.28,  \t p-value = 0.000000\n",
      "Realm: Drak'thul,  \t Pearson coeff = 0.14,  \t p-value = 0.000000\n",
      "Realm: Draka,  \t Pearson coeff = -0.10,  \t p-value = 0.000059\n",
      "Realm: Drenden,  \t Pearson coeff = -0.17,  \t p-value = 0.000000\n",
      "Realm: Duskwood,  \t Pearson coeff = 0.02,  \t p-value = 0.514377\n",
      "Realm: Echo Isles,  \t Pearson coeff = -0.28,  \t p-value = 0.000000\n",
      "Realm: Eitrigg,  \t Pearson coeff = -0.20,  \t p-value = 0.000000\n",
      "Realm: Eldre'Thalas,  \t Pearson coeff = -0.10,  \t p-value = 0.000048\n",
      "Realm: Elune,  \t Pearson coeff = -0.19,  \t p-value = 0.000000\n",
      "Realm: Fenris,  \t Pearson coeff = -0.10,  \t p-value = 0.000074\n",
      "Realm: Fizzcrank,  \t Pearson coeff = -0.09,  \t p-value = 0.000965\n",
      "Realm: Gallywix,  \t Pearson coeff = -0.31,  \t p-value = 0.000000\n",
      "Realm: Garrosh,  \t Pearson coeff = 0.08,  \t p-value = 0.006874\n",
      "Realm: Gilneas,  \t Pearson coeff = -0.19,  \t p-value = 0.000000\n",
      "Realm: Gnomeregan,  \t Pearson coeff = -0.02,  \t p-value = 0.468143\n",
      "Realm: Goldrinn,  \t Pearson coeff = -0.19,  \t p-value = 0.000000\n",
      "Realm: Greymane,  \t Pearson coeff = -0.08,  \t p-value = 0.001699\n",
      "Realm: Grizzly Hills,  \t Pearson coeff = 0.06,  \t p-value = 0.020467\n",
      "Realm: Hydraxis,  \t Pearson coeff = 0.16,  \t p-value = 0.000000\n",
      "Realm: Kael'thas,  \t Pearson coeff = -0.14,  \t p-value = 0.000000\n",
      "Realm: Kargath,  \t Pearson coeff = -0.11,  \t p-value = 0.000007\n",
      "Realm: Khadgar,  \t Pearson coeff = -0.08,  \t p-value = 0.001852\n",
      "Realm: Khaz Modan,  \t Pearson coeff = -0.28,  \t p-value = 0.000000\n",
      "Realm: Khaz'goroth,  \t Pearson coeff = -0.15,  \t p-value = 0.000000\n",
      "Realm: Korialstrasz,  \t Pearson coeff = -0.10,  \t p-value = 0.000048\n",
      "Realm: Kul Tiras,  \t Pearson coeff = -0.06,  \t p-value = 0.028214\n",
      "Realm: Llane,  \t Pearson coeff = -0.18,  \t p-value = 0.000000\n",
      "Realm: Malygos,  \t Pearson coeff = 0.00,  \t p-value = 0.964957\n",
      "Realm: Moonrunner,  \t Pearson coeff = -0.02,  \t p-value = 0.468143\n",
      "Realm: Nagrand,  \t Pearson coeff = -0.25,  \t p-value = 0.000000\n",
      "Realm: Perenolde,  \t Pearson coeff = -0.05,  \t p-value = 0.041315\n",
      "Realm: Shadowsong,  \t Pearson coeff = 0.02,  \t p-value = 0.537992\n",
      "Realm: Shandris,  \t Pearson coeff = -0.13,  \t p-value = 0.000000\n",
      "Realm: Shu'halo,  \t Pearson coeff = -0.20,  \t p-value = 0.000000\n",
      "Realm: Skywall,  \t Pearson coeff = 0.14,  \t p-value = 0.000000\n",
      "Realm: Staghelm,  \t Pearson coeff = -0.06,  \t p-value = 0.013243\n",
      "Realm: Tanaris,  \t Pearson coeff = -0.08,  \t p-value = 0.001699\n",
      "Realm: Terokkar,  \t Pearson coeff = -0.05,  \t p-value = 0.046314\n",
      "Realm: Thunderhorn,  \t Pearson coeff = -0.01,  \t p-value = 0.625361\n",
      "Realm: Uldum,  \t Pearson coeff = 0.15,  \t p-value = 0.000000\n",
      "Realm: Undermine,  \t Pearson coeff = 0.00,  \t p-value = 0.966226\n",
      "Realm: Whisperwind,  \t Pearson coeff = 0.05,  \t p-value = 0.047180\n",
      "Realm: Winterhoof,  \t Pearson coeff = -0.10,  \t p-value = 0.000739\n"
     ]
    }
   ],
   "source": [
    "for realm_name, r, p in corr:\n",
    "    print \"Realm: %s,  \\t Pearson coeff = %0.2f,  \\t p-value = %0.6f\" % (realm_name, r, p)    "
   ]
  },
  {
   "cell_type": "code",
   "execution_count": null,
   "metadata": {
    "collapsed": true
   },
   "outputs": [],
   "source": []
  }
 ],
 "metadata": {
  "kernelspec": {
   "display_name": "Python 2",
   "language": "python",
   "name": "python2"
  },
  "language_info": {
   "codemirror_mode": {
    "name": "ipython",
    "version": 2
   },
   "file_extension": ".py",
   "mimetype": "text/x-python",
   "name": "python",
   "nbconvert_exporter": "python",
   "pygments_lexer": "ipython2",
   "version": "2.7.6"
  }
 },
 "nbformat": 4,
 "nbformat_minor": 0
}
