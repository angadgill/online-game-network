{
 "cells": [
  {
   "cell_type": "markdown",
   "metadata": {},
   "source": [
    "# Network analysis - World of Warcraft"
   ]
  },
  {
   "cell_type": "markdown",
   "metadata": {},
   "source": [
    "#### Import API Key"
   ]
  },
  {
   "cell_type": "code",
   "execution_count": 1,
   "metadata": {
    "collapsed": true
   },
   "outputs": [],
   "source": [
    "with open('battle_net_api.key', 'r') as f:\n",
    "    key = f.read()"
   ]
  },
  {
   "cell_type": "markdown",
   "metadata": {},
   "source": [
    "### Get data from Battle.net"
   ]
  },
  {
   "cell_type": "code",
   "execution_count": 2,
   "metadata": {
    "collapsed": false
   },
   "outputs": [
    {
     "data": {
      "text/plain": [
       "<module 'battlenet_api' from 'battlenet_api.pyc'>"
      ]
     },
     "execution_count": 2,
     "metadata": {},
     "output_type": "execute_result"
    }
   ],
   "source": [
    "import battlenet_api\n",
    "reload(battlenet_api)"
   ]
  },
  {
   "cell_type": "code",
   "execution_count": 3,
   "metadata": {
    "collapsed": true
   },
   "outputs": [],
   "source": [
    "bn = battlenet_api.BattleNet(public_key=key)"
   ]
  },
  {
   "cell_type": "markdown",
   "metadata": {},
   "source": [
    "#### Get data for a PVE Realm"
   ]
  },
  {
   "cell_type": "code",
   "execution_count": 4,
   "metadata": {
    "collapsed": true
   },
   "outputs": [],
   "source": [
    "realms = bn.realms()"
   ]
  },
  {
   "cell_type": "code",
   "execution_count": 5,
   "metadata": {
    "collapsed": false
   },
   "outputs": [
    {
     "name": "stdout",
     "output_type": "stream",
     "text": [
      "Number of Realms: 246\n"
     ]
    }
   ],
   "source": [
    "print \"Number of Realms: %d\" % len(realms)"
   ]
  },
  {
   "cell_type": "code",
   "execution_count": 6,
   "metadata": {
    "collapsed": true
   },
   "outputs": [],
   "source": [
    "realms_pve = [r for r in realms if r['type']=='pve']"
   ]
  },
  {
   "cell_type": "code",
   "execution_count": 7,
   "metadata": {
    "collapsed": false
   },
   "outputs": [
    {
     "name": "stdout",
     "output_type": "stream",
     "text": [
      "Number of PVE Realms: 117\n"
     ]
    }
   ],
   "source": [
    "print \"Number of PVE Realms: %d\" % len(realms_pve)"
   ]
  },
  {
   "cell_type": "code",
   "execution_count": 8,
   "metadata": {
    "collapsed": false
   },
   "outputs": [],
   "source": [
    "realm = realms_pve[0]"
   ]
  },
  {
   "cell_type": "code",
   "execution_count": 11,
   "metadata": {
    "collapsed": false
   },
   "outputs": [
    {
     "name": "stdout",
     "output_type": "stream",
     "text": [
      "Selected Realm: Aerie Peak\n"
     ]
    }
   ],
   "source": [
    "print \"Selected Realm: %s\" % realm['name']"
   ]
  },
  {
   "cell_type": "markdown",
   "metadata": {},
   "source": [
    "#### Get data for Challenges"
   ]
  },
  {
   "cell_type": "code",
   "execution_count": 12,
   "metadata": {
    "collapsed": false
   },
   "outputs": [],
   "source": [
    "challenges = bn.challenges(realm['name'])"
   ]
  },
  {
   "cell_type": "code",
   "execution_count": 13,
   "metadata": {
    "collapsed": false
   },
   "outputs": [
    {
     "name": "stdout",
     "output_type": "stream",
     "text": [
      "Number of Challenges: 17\n"
     ]
    }
   ],
   "source": [
    "print \"Number of Challenges: %d\" % len(challenges)"
   ]
  },
  {
   "cell_type": "code",
   "execution_count": 15,
   "metadata": {
    "collapsed": true
   },
   "outputs": [],
   "source": [
    "groups = challenges[0]['groups']"
   ]
  },
  {
   "cell_type": "code",
   "execution_count": 16,
   "metadata": {
    "collapsed": false
   },
   "outputs": [
    {
     "name": "stdout",
     "output_type": "stream",
     "text": [
      "Number of groups per Challenge: 100\n"
     ]
    }
   ],
   "source": [
    "print \"Number of groups per Challenge: %d\" % len(groups)"
   ]
  },
  {
   "cell_type": "markdown",
   "metadata": {},
   "source": [
    "#### Distribution of number of members in groups"
   ]
  },
  {
   "cell_type": "code",
   "execution_count": 17,
   "metadata": {
    "collapsed": false
   },
   "outputs": [],
   "source": [
    "import numpy as np"
   ]
  },
  {
   "cell_type": "code",
   "execution_count": 18,
   "metadata": {
    "collapsed": false,
    "scrolled": true
   },
   "outputs": [
    {
     "name": "stdout",
     "output_type": "stream",
     "text": [
      "Challenge Auchindoun group members: 5.00 average and 0.00 std\n",
      "Challenge Bloodmaul Slag Mines group members: 5.00 average and 0.00 std\n",
      "Challenge Gate of the Setting Sun group members: 5.00 average and 0.00 std\n",
      "Challenge Grimrail Depot group members: 5.00 average and 0.00 std\n",
      "Challenge Iron Docks group members: 5.00 average and 0.00 std\n",
      "Challenge Mogu'shan Palace group members: 5.00 average and 0.00 std\n",
      "Challenge Scarlet Halls group members: 5.00 average and 0.00 std\n",
      "Challenge Scarlet Monastery group members: 5.00 average and 0.00 std\n",
      "Challenge Scholomance group members: 5.00 average and 0.00 std\n",
      "Challenge Shado-Pan Monastery group members: 5.00 average and 0.00 std\n",
      "Challenge Shadowmoon Burial Grounds group members: 5.00 average and 0.00 std\n",
      "Challenge Siege of Niuzao Temple group members: 5.00 average and 0.00 std\n",
      "Challenge Skyreach group members: 5.00 average and 0.00 std\n",
      "Challenge Stormstout Brewery group members: 5.00 average and 0.00 std\n",
      "Challenge Temple of the Jade Serpent group members: 5.00 average and 0.00 std\n",
      "Challenge The Everbloom group members: 5.00 average and 0.00 std\n",
      "Challenge Upper Blackrock Spire group members: 5.00 average and 0.00 std\n"
     ]
    }
   ],
   "source": [
    "names = []\n",
    "for challenge in challenges:\n",
    "    num_members = []  # list of num. of members\n",
    "    for group in challenge['groups']:\n",
    "        members = group['members']\n",
    "        num_members += [len(members)]\n",
    "        for m in members:\n",
    "            if m.has_key('character'):\n",
    "                 names += [m['character']['name']]\n",
    "#         print ', '.join(names)\n",
    "\n",
    "    print \"Challenge %s group members: %0.2f average and %0.2f std\" % \\\n",
    "    (challenge['map']['name'], np.mean(num_members), np.std(num_members))"
   ]
  },
  {
   "cell_type": "code",
   "execution_count": 19,
   "metadata": {
    "collapsed": false
   },
   "outputs": [
    {
     "name": "stdout",
     "output_type": "stream",
     "text": [
      "Number of unique characters: 1057\n"
     ]
    }
   ],
   "source": [
    "print \"Number of unique characters: %d\" % len(set(names))"
   ]
  },
  {
   "cell_type": "markdown",
   "metadata": {},
   "source": [
    "#### Create a network of characters"
   ]
  },
  {
   "cell_type": "code",
   "execution_count": 20,
   "metadata": {
    "collapsed": true
   },
   "outputs": [],
   "source": [
    "import networkx as nx"
   ]
  },
  {
   "cell_type": "code",
   "execution_count": 21,
   "metadata": {
    "collapsed": false
   },
   "outputs": [
    {
     "data": {
      "text/plain": [
       "<module 'algos' from 'algos.pyc'>"
      ]
     },
     "execution_count": 21,
     "metadata": {},
     "output_type": "execute_result"
    }
   ],
   "source": [
    "import algos\n",
    "reload(algos)"
   ]
  },
  {
   "cell_type": "code",
   "execution_count": 22,
   "metadata": {
    "collapsed": false
   },
   "outputs": [],
   "source": [
    "# Create a graph of all characters as nodes \n",
    "# and number of challanges on leaderboard as edges\n",
    "g = nx.Graph()\n",
    "\n",
    "for challenge in challenges:\n",
    "    for group in challenge['groups']:\n",
    "        names = []  # List of node names to add to graph\n",
    "        for member in group['members']:\n",
    "            if member.has_key('character'):  # Only add if character info is available\n",
    "                name = member['character']['name']\n",
    "#                 print name\n",
    "                names += [name]\n",
    "#         print names\n",
    "        g = algos.add_clique_with_weights(g, names)"
   ]
  },
  {
   "cell_type": "markdown",
   "metadata": {},
   "source": [
    "#### Calculate correlation between algebraic connectivity and performance"
   ]
  },
  {
   "cell_type": "code",
   "execution_count": 23,
   "metadata": {
    "collapsed": true
   },
   "outputs": [],
   "source": [
    "from scipy.stats import pearsonr"
   ]
  },
  {
   "cell_type": "code",
   "execution_count": 24,
   "metadata": {
    "collapsed": true
   },
   "outputs": [],
   "source": [
    "ac = []\n",
    "time = []\n",
    "\n",
    "for challenge in challenges:\n",
    "    for group in challenge['groups']:\n",
    "        names = []  # List of node names to add to graph\n",
    "        for member in group['members']:\n",
    "            if member.has_key('character'):  # Only add if character info is available\n",
    "                name = member['character']['name']\n",
    "                names += [name]\n",
    "        \n",
    "        g_team = g.subgraph(names)\n",
    "        if len(g_team.nodes()) >1:\n",
    "            ac += [nx.algebraic_connectivity(g_team)]\n",
    "            time += [group['time']['time']]"
   ]
  },
  {
   "cell_type": "code",
   "execution_count": 25,
   "metadata": {
    "collapsed": false
   },
   "outputs": [],
   "source": [
    "ac = np.array(ac)\n",
    "time = np.array(time)\n",
    "r, p = pearsonr(ac, time)"
   ]
  },
  {
   "cell_type": "code",
   "execution_count": 26,
   "metadata": {
    "collapsed": false
   },
   "outputs": [
    {
     "name": "stdout",
     "output_type": "stream",
     "text": [
      "Algebraic Connectivity vs. challenge completion time: Pearson coeff = -0.12, p-value = 0.000002\n"
     ]
    }
   ],
   "source": [
    "print \"Algebraic Connectivity vs. challenge completion time: Pearson coeff = %0.2f, p-value = %0.6f\" % (r, p)"
   ]
  },
  {
   "cell_type": "code",
   "execution_count": null,
   "metadata": {
    "collapsed": true
   },
   "outputs": [],
   "source": []
  }
 ],
 "metadata": {
  "kernelspec": {
   "display_name": "Python 2",
   "language": "python",
   "name": "python2"
  },
  "language_info": {
   "codemirror_mode": {
    "name": "ipython",
    "version": 2
   },
   "file_extension": ".py",
   "mimetype": "text/x-python",
   "name": "python",
   "nbconvert_exporter": "python",
   "pygments_lexer": "ipython2",
   "version": "2.7.6"
  }
 },
 "nbformat": 4,
 "nbformat_minor": 0
}
